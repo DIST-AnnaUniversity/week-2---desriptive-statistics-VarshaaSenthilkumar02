{
  "nbformat": 4,
  "nbformat_minor": 0,
  "metadata": {
    "colab": {
      "provenance": []
    },
    "kernelspec": {
      "name": "python3",
      "display_name": "Python 3"
    },
    "language_info": {
      "name": "python"
    }
  },
  "cells": [
    {
      "cell_type": "markdown",
      "source": [
        "Q3_3. Outlier."
      ],
      "metadata": {
        "id": "No2-_vncTHM9"
      }
    },
    {
      "cell_type": "code",
      "execution_count": 1,
      "metadata": {
        "colab": {
          "base_uri": "https://localhost:8080/",
          "height": 1000
        },
        "id": "Adq82h03SXC5",
        "outputId": "044f3255-a345-484f-c41e-978f43cb6471"
      },
      "outputs": [
        {
          "output_type": "stream",
          "name": "stdout",
          "text": [
            "       Avg_smlvl_at15cm\n",
            "19751         34.520699\n",
            "19752         34.982480\n",
            "19753         31.406974\n",
            "19754         32.885819\n",
            "19755         30.154316\n",
            "19756         29.452173\n",
            "19757         29.786778\n",
            "19758         28.757358\n",
            "19759         29.177045\n",
            "19760         28.156602\n",
            "19761         27.374842\n",
            "19762         27.571968\n",
            "19763         27.782616\n",
            "19764         28.161675\n",
            "19765         27.586114\n",
            "19766         28.756647\n",
            "19767         28.059878\n",
            "19768         27.575630\n",
            "19769         30.618221\n",
            "19770         27.888375\n",
            "19771         29.376963\n",
            "19772         28.357462\n",
            "19773         29.474250\n",
            "19774         30.809534\n",
            "19775         32.208750\n",
            "19776         32.896800\n",
            "19777         32.849668\n",
            "19778         32.995447\n",
            "19779         32.913774\n",
            "19780         28.904095\n",
            "19781         30.944713\n",
            "19782         27.766336\n",
            "19783         30.546349\n",
            "19784         28.844072\n",
            "19785         27.751802\n",
            "19786         29.179052\n",
            "19787         26.302775\n",
            "19788         24.914633\n",
            "19789         24.910407\n",
            "19790         24.028795\n"
          ]
        },
        {
          "output_type": "execute_result",
          "data": {
            "text/plain": [
              "<matplotlib.axes._subplots.AxesSubplot at 0x7fd9b73a3810>"
            ]
          },
          "metadata": {},
          "execution_count": 1
        },
        {
          "output_type": "display_data",
          "data": {
            "text/plain": [
              "<Figure size 432x288 with 1 Axes>"
            ],
            "image/png": "[encoded data removed]"
          },
          "metadata": {
            "needs_background": "light"
          }
        }
      ],
      "source": [
        "import pandas as pn\n",
        "data = pn.read_csv('soil.csv')\n",
        "x = data[['Avg_smlvl_at15cm']]\n",
        "newx = x.tail(40)\n",
        "print(newx)\n",
        "newx.boxplot()"
      ]
    },
    {
      "cell_type": "markdown",
      "source": [
        "Choosen data has no outlier."
      ],
      "metadata": {
        "id": "xzoCWvAkTN8J"
      }
    }
  ]
}