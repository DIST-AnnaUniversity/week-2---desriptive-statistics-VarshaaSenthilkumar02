{
  "nbformat": 4,
  "nbformat_minor": 0,
  "metadata": {
    "colab": {
      "provenance": []
    },
    "kernelspec": {
      "name": "python3",
      "display_name": "Python 3"
    },
    "language_info": {
      "name": "python"
    }
  },
  "cells": [
    {
      "cell_type": "markdown",
      "source": [
        "1. The miles per gallon rating for 30 cars are shown below (lowest to highest)."
      ],
      "metadata": {
        "id": "RYicYM3rxwjI"
      }
    },
    {
      "cell_type": "code",
      "source": [
        "import sys\n",
        "!{sys.executable} -m pip install stemgraphic"
      ],
      "metadata": {
        "colab": {
          "base_uri": "https://localhost:8080/"
        },
        "id": "usYB2fcIAoN4",
        "outputId": "3ebff9b2-9530-4128-bedf-ca5460e47e65"
      },
      "execution_count": null,
      "outputs": [
        {
          "output_type": "stream",
          "name": "stdout",
          "text": [
            "Looking in indexes: https://pypi.org/simple, https://us-python.pkg.dev/colab-wheels/public/simple/\n",
            "Collecting stemgraphic\n",
            "  Downloading stemgraphic-0.9.1-py3-none-any.whl (61 kB)\n",
            "\u001b[K     |████████████████████████████████| 61 kB 483 kB/s \n",
            "\u001b[?25hRequirement already satisfied: matplotlib in /usr/local/lib/python3.7/dist-packages (from stemgraphic) (3.2.2)\n",
            "Collecting docopt\n",
            "  Downloading docopt-0.6.2.tar.gz (25 kB)\n",
            "Requirement already satisfied: seaborn in /usr/local/lib/python3.7/dist-packages (from stemgraphic) (0.11.2)\n",
            "Requirement already satisfied: pandas in /usr/local/lib/python3.7/dist-packages (from stemgraphic) (1.3.5)\n",
            "Requirement already satisfied: python-dateutil>=2.1 in /usr/local/lib/python3.7/dist-packages (from matplotlib->stemgraphic) (2.8.2)\n",
            "Requirement already satisfied: pyparsing!=2.0.4,!=2.1.2,!=2.1.6,>=2.0.1 in /usr/local/lib/python3.7/dist-packages (from matplotlib->stemgraphic) (3.0.9)\n",
            "Requirement already satisfied: kiwisolver>=1.0.1 in /usr/local/lib/python3.7/dist-packages (from matplotlib->stemgraphic) (1.4.4)\n",
            "Requirement already satisfied: cycler>=0.10 in /usr/local/lib/python3.7/dist-packages (from matplotlib->stemgraphic) (0.11.0)\n",
            "Requirement already satisfied: numpy>=1.11 in /usr/local/lib/python3.7/dist-packages (from matplotlib->stemgraphic) (1.21.6)\n",
            "Requirement already satisfied: typing-extensions in /usr/local/lib/python3.7/dist-packages (from kiwisolver>=1.0.1->matplotlib->stemgraphic) (4.1.1)\n",
            "Requirement already satisfied: six>=1.5 in /usr/local/lib/python3.7/dist-packages (from python-dateutil>=2.1->matplotlib->stemgraphic) (1.15.0)\n",
            "Requirement already satisfied: pytz>=2017.3 in /usr/local/lib/python3.7/dist-packages (from pandas->stemgraphic) (2022.5)\n",
            "Requirement already satisfied: scipy>=1.0 in /usr/local/lib/python3.7/dist-packages (from seaborn->stemgraphic) (1.7.3)\n",
            "Building wheels for collected packages: docopt\n",
            "  Building wheel for docopt (setup.py) ... \u001b[?25l\u001b[?25hdone\n",
            "  Created wheel for docopt: filename=docopt-0.6.2-py2.py3-none-any.whl size=13723 sha256=3975ecd0c80275c7ccc3afa02ecf61985047eae9130c5c2f7113b50716b2075e\n",
            "  Stored in directory: /root/.cache/pip/wheels/72/b0/3f/1d95f96ff986c7dfffe46ce2be4062f38ebd04b506c77c81b9\n",
            "Successfully built docopt\n",
            "Installing collected packages: docopt, stemgraphic\n",
            "Successfully installed docopt-0.6.2 stemgraphic-0.9.1\n"
          ]
        }
      ]
    },
    {
      "cell_type": "code",
      "source": [
        "import stemgraphic\n",
        "data = [19, 19, 19, 20, 21, 21, 25, 25, 25, 26, 26, 28, 29, 31, 31, 32, 32, 33, 34, 35, 36, 37, 37, 38, 38, 38, 38, 41, 43, 43]\n",
        "stemgraphic.stem_graphic(data, scale = 10)"
      ],
      "metadata": {
        "colab": {
          "base_uri": "https://localhost:8080/",
          "height": 186
        },
        "id": "Gr72Dj6DAxqG",
        "outputId": "89375bbb-1a4e-4e10-f6b8-6d3cd383993b"
      },
      "execution_count": null,
      "outputs": [
        {
          "output_type": "execute_result",
          "data": {
            "text/plain": [
              "(<Figure size 540x126 with 1 Axes>,\n",
              " <matplotlib.axes._axes.Axes at 0x7f212b56ad10>)"
            ]
          },
          "metadata": {},
          "execution_count": 19
        },
        {
          "output_type": "display_data",
          "data": {
            "text/plain": [
              "<Figure size 540x126 with 1 Axes>"
            ],
            "image/png": "[encoded data removed]"
          },
          "metadata": {
            "needs_background": "light"
          }
        }
      ]
    },
    {
      "cell_type": "code",
      "source": [
        "import matplotlib.pyplot as pt\n",
        "data = [19, 19, 19, 20, 21, 21, 25, 25, 25, 26, 26, 28, 29, 31, 31, 32, 32, 33, 34, 35, 36, 37, 37, 38, 38, 38, 38, 41, 43, 43]\n",
        "st =[1,1,1,2,2,2,2,2,2,2,2,2,2,3,3,3,3,3,3,3,3,3,3,3,3,3,3,4,4,4]\n",
        "pt.ylabel('Data')\n",
        "pt.xlabel('Stem')\n",
        "pt.stem(st,data,use_line_collection = True)\n",
        "pt.show()"
      ],
      "metadata": {
        "colab": {
          "base_uri": "https://localhost:8080/",
          "height": 279
        },
        "id": "C8ijIQPEx3BA",
        "outputId": "ed490d2d-ee4d-44e7-b046-1e9ea95388f4"
      },
      "execution_count": null,
      "outputs": [
        {
          "output_type": "display_data",
          "data": {
            "text/plain": [
              "<Figure size 432x288 with 1 Axes>"
            ],
            "image/png": "[encoded data removed]"
          },
          "metadata": {
            "needs_background": "light"
          }
        }
      ]
    },
    {
      "cell_type": "markdown",
      "source": [
        "12.Student grades on a chemistry exam were: \n",
        "77\n",
        ", \n",
        "78\n",
        ", \n",
        "76\n",
        ", \n",
        "81\n",
        ", \n",
        "86\n",
        ", \n",
        "51\n",
        ", \n",
        "79\n",
        ", \n",
        "82\n",
        ", \n",
        "84\n",
        ", \n",
        "99"
      ],
      "metadata": {
        "id": "vkRp88ac0aQg"
      }
    },
    {
      "cell_type": "markdown",
      "source": [
        "12.1. Construct a stem-and-leaf plot of the data."
      ],
      "metadata": {
        "id": "x6e3cr2V0fEo"
      }
    },
    {
      "cell_type": "code",
      "source": [
        "import matplotlib.pyplot as plt\n",
        "data = [77, 78, 76, 81, 86, 51, 79, 82, 84, 99]\n",
        "st = [7,7,7,8,8,5,7,8,8,9]\n",
        "plt.ylabel('Data')\n",
        "plt.xlabel('Stem')\n",
        "plt.stem(st,data)\n",
        "plt.show()"
      ],
      "metadata": {
        "colab": {
          "base_uri": "https://localhost:8080/",
          "height": 334
        },
        "id": "BwktMUB40kJp",
        "outputId": "8897b623-83f8-42bb-cbf6-77bacc127c6d"
      },
      "execution_count": null,
      "outputs": [
        {
          "output_type": "stream",
          "name": "stderr",
          "text": [
            "/usr/local/lib/python3.7/dist-packages/ipykernel_launcher.py:6: UserWarning: In Matplotlib 3.3 individual lines on a stem plot will be added as a LineCollection instead of individual lines. This significantly improves the performance of a stem plot. To remove this warning and switch to the new behaviour, set the \"use_line_collection\" keyword argument to True.\n",
            "  \n"
          ]
        },
        {
          "output_type": "display_data",
          "data": {
            "text/plain": [
              "<Figure size 432x288 with 1 Axes>"
            ],
            "image/png": "[encoded data removed]"
          },
          "metadata": {
            "needs_background": "light"
          }
        }
      ]
    },
    {
      "cell_type": "markdown",
      "source": [
        "12.2.Are there any potential outliers? If so, which scores are they? Why do you consider them outliers?\n",
        "Yes, there is potential outlier and that is score 51. This is becaue score 51 is far away from all the other secured scores."
      ],
      "metadata": {
        "id": "uKQzGRhH1L4Y"
      }
    },
    {
      "cell_type": "markdown",
      "source": [
        "49.Create a Box Plot\n"
      ],
      "metadata": {
        "id": "4V60rynC3eIK"
      }
    },
    {
      "cell_type": "code",
      "source": [
        "import matplotlib.pyplot as plt\n",
        "\n",
        "data = [0,0,0,0,0,1,1,1,1,1,1,1,1,1,2,2,2,2,2,2,3,3,3,3,4]\n",
        "plt.boxplot(data)\n",
        "plt.show()"
      ],
      "metadata": {
        "colab": {
          "base_uri": "https://localhost:8080/",
          "height": 265
        },
        "id": "B9YtnEqA3jaK",
        "outputId": "f4da94c2-38dc-4a33-e083-7e8904199ba4"
      },
      "execution_count": null,
      "outputs": [
        {
          "output_type": "display_data",
          "data": {
            "text/plain": [
              "<Figure size 432x288 with 1 Axes>"
            ],
            "image/png": "[encoded data removed]"
          },
          "metadata": {
            "needs_background": "light"
          }
        }
      ]
    },
    {
      "cell_type": "markdown",
      "source": [
        "61.IQR\n"
      ],
      "metadata": {
        "id": "Lafy9jWx7ViU"
      }
    },
    {
      "cell_type": "code",
      "source": [
        "import numpy as np\n",
        "data = [7,14,14,14,15,18,19,19,19,19,20,20,20,22,23,26,40,40,42,42]\n",
        "data.sort()\n",
        "n = len(data)\n",
        "ran = n/2\n",
        "q1 = np.median(data[:10])\n",
        "q3 = np.median(data[10:])\n",
        "iqr = q3-q1\n",
        "print(iqr)"
      ],
      "metadata": {
        "colab": {
          "base_uri": "https://localhost:8080/"
        },
        "id": "UuI9Ky0D7YDN",
        "outputId": "5ef13e10-997e-484d-dcdd-965aaedfffd3"
      },
      "execution_count": null,
      "outputs": [
        {
          "output_type": "stream",
          "name": "stdout",
          "text": [
            "8.0\n"
          ]
        }
      ]
    },
    {
      "cell_type": "markdown",
      "source": [
        "So IQR for the given data is 8"
      ],
      "metadata": {
        "id": "ch3Td8lU8oAr"
      }
    },
    {
      "cell_type": "markdown",
      "source": [
        "62.Calculate Mode"
      ],
      "metadata": {
        "id": "HBrZ9XHy8_pD"
      }
    },
    {
      "cell_type": "code",
      "source": [
        "from scipy import stats\n",
        "data = [7,14,14,14,15,18,19,19,19,19,20,20,20,22,23,26,40,40,42,42]\n",
        "ans = stats.mode(data)\n",
        "print(ans)"
      ],
      "metadata": {
        "colab": {
          "base_uri": "https://localhost:8080/"
        },
        "id": "bOlnPZs39JJb",
        "outputId": "78963a37-8d94-4db0-9306-d886590e2937"
      },
      "execution_count": null,
      "outputs": [
        {
          "output_type": "stream",
          "name": "stdout",
          "text": [
            "ModeResult(mode=array([19]), count=array([4]))\n"
          ]
        }
      ]
    },
    {
      "cell_type": "markdown",
      "source": [
        "63.The given data is the Sample."
      ],
      "metadata": {
        "id": "CAr7gpVH96PT"
      }
    }
  ]
}