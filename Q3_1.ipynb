{
  "cells": [
    {
      "cell_type": "markdown",
      "metadata": {
        "id": "dE02oyOjEjPa"
      },
      "source": [
        "1.Apply the measure of Central Tendency"
      ]
    },
    {
      "cell_type": "markdown",
      "metadata": {
        "id": "OWrEsKyZVB2K"
      },
      "source": [
        "Mean:"
      ]
    },
    {
      "cell_type": "code",
      "execution_count": null,
      "metadata": {
        "colab": {
          "base_uri": "https://localhost:8080/"
        },
        "id": "4F_9KJuCFfEM",
        "outputId": "ebf1398e-85df-49d6-cc43-fc72ad91c6a2"
      },
      "outputs": [
        {
          "output_type": "stream",
          "name": "stdout",
          "text": [
            "Avg_smlvl_at15cm    22.598401\n",
            "dtype: float64\n"
          ]
        }
      ],
      "source": [
        "import pandas as pn\n",
        "data = pn.read_csv('soil.csv')\n",
        "x = data[['Avg_smlvl_at15cm']]\n",
        "# print(x)\n",
        "df = pn.DataFrame(x)\n",
        "print(df.mean())"
      ]
    },
    {
      "cell_type": "markdown",
      "metadata": {
        "id": "fxxV7RIEVF3E"
      },
      "source": [
        "Median:"
      ]
    },
    {
      "cell_type": "code",
      "execution_count": null,
      "metadata": {
        "colab": {
          "base_uri": "https://localhost:8080/"
        },
        "id": "ymn2YQU3VIxc",
        "outputId": "b22c1e7e-c9be-4326-bdf6-da5c259d5e2b"
      },
      "outputs": [
        {
          "output_type": "stream",
          "name": "stdout",
          "text": [
            "Avg_smlvl_at15cm    23.726072\n",
            "dtype: float64\n"
          ]
        }
      ],
      "source": [
        "print(df.median())"
      ]
    },
    {
      "cell_type": "markdown",
      "metadata": {
        "id": "r-vzWgbkVeZ7"
      },
      "source": [
        "Mode:\n"
      ]
    },
    {
      "cell_type": "code",
      "execution_count": null,
      "metadata": {
        "colab": {
          "base_uri": "https://localhost:8080/"
        },
        "id": "Kkwv4DUvVfYT",
        "outputId": "abfbf64f-ec4e-4d5c-dc0f-9db0574e7ad4"
      },
      "outputs": [
        {
          "output_type": "stream",
          "name": "stdout",
          "text": [
            "ModeResult(mode=array([[20.73753467]]), count=array([[1]]))\n"
          ]
        }
      ],
      "source": [
        "# print(df[81:86])\n",
        "from scipy import stats\n",
        "# data = [1,2,3,4,5]\n",
        "# ans = stats.mode(data)\n",
        "#mode for data from 81 st cell to 100th cell\n",
        "ans = stats.mode(df[81:101])\n",
        "print(ans)"
      ]
    },
    {
      "cell_type": "code",
      "execution_count": null,
      "metadata": {
        "colab": {
          "base_uri": "https://localhost:8080/"
        },
        "id": "IkirVmGfYRc8",
        "outputId": "39fdb1da-d0fe-438b-d329-aabe2e305904"
      },
      "outputs": [
        {
          "name": "stdout",
          "output_type": "stream",
          "text": [
            "ModeResult(mode=array([[nan]]), count=array([[108]]))\n"
          ]
        }
      ],
      "source": [
        "ans = stats.mode(df[:])\n",
        "print(ans)"
      ]
    }
  ],
  "metadata": {
    "colab": {
      "provenance": []
    },
    "kernelspec": {
      "display_name": "Python 3",
      "name": "python3"
    },
    "language_info": {
      "name": "python"
    }
  },
  "nbformat": 4,
  "nbformat_minor": 0
}